{
 "cells": [
  {
   "cell_type": "code",
   "execution_count": 2,
   "id": "893a7261-e442-4868-b7c5-8d225de2ea35",
   "metadata": {},
   "outputs": [],
   "source": [
    "# Analyzing Customer Churn in a Telecommunications Company"
   ]
  },
  {
   "cell_type": "code",
   "execution_count": 1,
   "id": "c77d654e-625d-4f3c-b761-c61f9d4ad6a7",
   "metadata": {},
   "outputs": [],
   "source": [
    "# 1. Import Libraries and Load Dataset\n",
    "import pandas as pd\n",
    "import numpy as np\n",
    "import seaborn as sns\n",
    "import matplotlib.pyplot as plt"
   ]
  },
  {
   "cell_type": "code",
   "execution_count": 2,
   "id": "2afc8ba6-7470-4e1f-a953-0f9418909e4b",
   "metadata": {},
   "outputs": [],
   "source": [
    "telecom_data = pd.read_csv('WA_Fn-UseC_-Telco-Customer-Churn.csv')"
   ]
  },
  {
   "cell_type": "code",
   "execution_count": 3,
   "id": "e9a0368c-02ac-4694-99cd-2d67ef123370",
   "metadata": {},
   "outputs": [
    {
     "name": "stdout",
     "output_type": "stream",
     "text": [
      "Dataset Info:\n",
      "<class 'pandas.core.frame.DataFrame'>\n",
      "RangeIndex: 7043 entries, 0 to 7042\n",
      "Data columns (total 21 columns):\n",
      " #   Column            Non-Null Count  Dtype  \n",
      "---  ------            --------------  -----  \n",
      " 0   customerID        7043 non-null   object \n",
      " 1   gender            7043 non-null   object \n",
      " 2   SeniorCitizen     7043 non-null   int64  \n",
      " 3   Partner           7043 non-null   object \n",
      " 4   Dependents        7043 non-null   object \n",
      " 5   tenure            7043 non-null   int64  \n",
      " 6   PhoneService      7043 non-null   object \n",
      " 7   MultipleLines     7043 non-null   object \n",
      " 8   InternetService   7043 non-null   object \n",
      " 9   OnlineSecurity    7043 non-null   object \n",
      " 10  OnlineBackup      7043 non-null   object \n",
      " 11  DeviceProtection  7043 non-null   object \n",
      " 12  TechSupport       7043 non-null   object \n",
      " 13  StreamingTV       7043 non-null   object \n",
      " 14  StreamingMovies   7043 non-null   object \n",
      " 15  Contract          7043 non-null   object \n",
      " 16  PaperlessBilling  7043 non-null   object \n",
      " 17  PaymentMethod     7043 non-null   object \n",
      " 18  MonthlyCharges    7043 non-null   float64\n",
      " 19  TotalCharges      7043 non-null   object \n",
      " 20  Churn             7043 non-null   object \n",
      "dtypes: float64(1), int64(2), object(18)\n",
      "memory usage: 1.1+ MB\n",
      "None\n",
      "\n",
      "Dataset Summary:\n",
      "       SeniorCitizen       tenure  MonthlyCharges\n",
      "count    7043.000000  7043.000000     7043.000000\n",
      "mean        0.162147    32.371149       64.761692\n",
      "std         0.368612    24.559481       30.090047\n",
      "min         0.000000     0.000000       18.250000\n",
      "25%         0.000000     9.000000       35.500000\n",
      "50%         0.000000    29.000000       70.350000\n",
      "75%         0.000000    55.000000       89.850000\n",
      "max         1.000000    72.000000      118.750000\n",
      "\n",
      "Sample Data:\n",
      "   customerID  gender  SeniorCitizen Partner Dependents  tenure PhoneService  \\\n",
      "0  7590-VHVEG  Female              0     Yes         No       1           No   \n",
      "1  5575-GNVDE    Male              0      No         No      34          Yes   \n",
      "2  3668-QPYBK    Male              0      No         No       2          Yes   \n",
      "3  7795-CFOCW    Male              0      No         No      45           No   \n",
      "4  9237-HQITU  Female              0      No         No       2          Yes   \n",
      "\n",
      "      MultipleLines InternetService OnlineSecurity  ... DeviceProtection  \\\n",
      "0  No phone service             DSL             No  ...               No   \n",
      "1                No             DSL            Yes  ...              Yes   \n",
      "2                No             DSL            Yes  ...               No   \n",
      "3  No phone service             DSL            Yes  ...              Yes   \n",
      "4                No     Fiber optic             No  ...               No   \n",
      "\n",
      "  TechSupport StreamingTV StreamingMovies        Contract PaperlessBilling  \\\n",
      "0          No          No              No  Month-to-month              Yes   \n",
      "1          No          No              No        One year               No   \n",
      "2          No          No              No  Month-to-month              Yes   \n",
      "3         Yes          No              No        One year               No   \n",
      "4          No          No              No  Month-to-month              Yes   \n",
      "\n",
      "               PaymentMethod MonthlyCharges  TotalCharges Churn  \n",
      "0           Electronic check          29.85         29.85    No  \n",
      "1               Mailed check          56.95        1889.5    No  \n",
      "2               Mailed check          53.85        108.15   Yes  \n",
      "3  Bank transfer (automatic)          42.30       1840.75    No  \n",
      "4           Electronic check          70.70        151.65   Yes  \n",
      "\n",
      "[5 rows x 21 columns]\n"
     ]
    }
   ],
   "source": [
    "# 2. Explore the Dataset\n",
    "print(\"Dataset Info:\")\n",
    "print(telecom_data.info())\n",
    "print(\"\\nDataset Summary:\")\n",
    "print(telecom_data.describe())\n",
    "print(\"\\nSample Data:\")\n",
    "print(telecom_data.head())"
   ]
  },
  {
   "cell_type": "code",
   "execution_count": 4,
   "id": "ab4fb6b0-b252-4a5c-a42c-a49daef08a57",
   "metadata": {},
   "outputs": [
    {
     "name": "stdout",
     "output_type": "stream",
     "text": [
      "\n",
      "Missing Values Count:\n",
      "customerID          0\n",
      "gender              0\n",
      "SeniorCitizen       0\n",
      "Partner             0\n",
      "Dependents          0\n",
      "tenure              0\n",
      "PhoneService        0\n",
      "MultipleLines       0\n",
      "InternetService     0\n",
      "OnlineSecurity      0\n",
      "OnlineBackup        0\n",
      "DeviceProtection    0\n",
      "TechSupport         0\n",
      "StreamingTV         0\n",
      "StreamingMovies     0\n",
      "Contract            0\n",
      "PaperlessBilling    0\n",
      "PaymentMethod       0\n",
      "MonthlyCharges      0\n",
      "TotalCharges        0\n",
      "Churn               0\n",
      "dtype: int64\n"
     ]
    }
   ],
   "source": [
    "# 3. Handle Missing Values\n",
    "print(\"\\nMissing Values Count:\")\n",
    "print(telecom_data.isnull().sum())"
   ]
  },
  {
   "cell_type": "code",
   "execution_count": 5,
   "id": "fbfa2f4e-1022-4897-9198-8f5fade8b1bd",
   "metadata": {},
   "outputs": [
    {
     "name": "stderr",
     "output_type": "stream",
     "text": [
      "C:\\Users\\bargi\\AppData\\Local\\Temp\\ipykernel_1984\\1972756462.py:5: FutureWarning: A value is trying to be set on a copy of a DataFrame or Series through chained assignment using an inplace method.\n",
      "The behavior will change in pandas 3.0. This inplace method will never work because the intermediate object on which we are setting values always behaves as a copy.\n",
      "\n",
      "For example, when doing 'df[col].method(value, inplace=True)', try using 'df.method({col: value}, inplace=True)' or df[col] = df[col].method(value) instead, to perform the operation inplace on the original object.\n",
      "\n",
      "\n",
      "  telecom_data[column].fillna(telecom_data[column].mode()[0], inplace=True)\n",
      "C:\\Users\\bargi\\AppData\\Local\\Temp\\ipykernel_1984\\1972756462.py:7: FutureWarning: A value is trying to be set on a copy of a DataFrame or Series through chained assignment using an inplace method.\n",
      "The behavior will change in pandas 3.0. This inplace method will never work because the intermediate object on which we are setting values always behaves as a copy.\n",
      "\n",
      "For example, when doing 'df[col].method(value, inplace=True)', try using 'df.method({col: value}, inplace=True)' or df[col] = df[col].method(value) instead, to perform the operation inplace on the original object.\n",
      "\n",
      "\n",
      "  telecom_data[column].fillna(telecom_data[column].median(), inplace=True)\n",
      "C:\\Users\\bargi\\AppData\\Local\\Temp\\ipykernel_1984\\1972756462.py:5: FutureWarning: A value is trying to be set on a copy of a DataFrame or Series through chained assignment using an inplace method.\n",
      "The behavior will change in pandas 3.0. This inplace method will never work because the intermediate object on which we are setting values always behaves as a copy.\n",
      "\n",
      "For example, when doing 'df[col].method(value, inplace=True)', try using 'df.method({col: value}, inplace=True)' or df[col] = df[col].method(value) instead, to perform the operation inplace on the original object.\n",
      "\n",
      "\n",
      "  telecom_data[column].fillna(telecom_data[column].mode()[0], inplace=True)\n",
      "C:\\Users\\bargi\\AppData\\Local\\Temp\\ipykernel_1984\\1972756462.py:7: FutureWarning: A value is trying to be set on a copy of a DataFrame or Series through chained assignment using an inplace method.\n",
      "The behavior will change in pandas 3.0. This inplace method will never work because the intermediate object on which we are setting values always behaves as a copy.\n",
      "\n",
      "For example, when doing 'df[col].method(value, inplace=True)', try using 'df.method({col: value}, inplace=True)' or df[col] = df[col].method(value) instead, to perform the operation inplace on the original object.\n",
      "\n",
      "\n",
      "  telecom_data[column].fillna(telecom_data[column].median(), inplace=True)\n",
      "C:\\Users\\bargi\\AppData\\Local\\Temp\\ipykernel_1984\\1972756462.py:5: FutureWarning: A value is trying to be set on a copy of a DataFrame or Series through chained assignment using an inplace method.\n",
      "The behavior will change in pandas 3.0. This inplace method will never work because the intermediate object on which we are setting values always behaves as a copy.\n",
      "\n",
      "For example, when doing 'df[col].method(value, inplace=True)', try using 'df.method({col: value}, inplace=True)' or df[col] = df[col].method(value) instead, to perform the operation inplace on the original object.\n",
      "\n",
      "\n",
      "  telecom_data[column].fillna(telecom_data[column].mode()[0], inplace=True)\n",
      "C:\\Users\\bargi\\AppData\\Local\\Temp\\ipykernel_1984\\1972756462.py:7: FutureWarning: A value is trying to be set on a copy of a DataFrame or Series through chained assignment using an inplace method.\n",
      "The behavior will change in pandas 3.0. This inplace method will never work because the intermediate object on which we are setting values always behaves as a copy.\n",
      "\n",
      "For example, when doing 'df[col].method(value, inplace=True)', try using 'df.method({col: value}, inplace=True)' or df[col] = df[col].method(value) instead, to perform the operation inplace on the original object.\n",
      "\n",
      "\n",
      "  telecom_data[column].fillna(telecom_data[column].median(), inplace=True)\n",
      "C:\\Users\\bargi\\AppData\\Local\\Temp\\ipykernel_1984\\1972756462.py:5: FutureWarning: A value is trying to be set on a copy of a DataFrame or Series through chained assignment using an inplace method.\n",
      "The behavior will change in pandas 3.0. This inplace method will never work because the intermediate object on which we are setting values always behaves as a copy.\n",
      "\n",
      "For example, when doing 'df[col].method(value, inplace=True)', try using 'df.method({col: value}, inplace=True)' or df[col] = df[col].method(value) instead, to perform the operation inplace on the original object.\n",
      "\n",
      "\n",
      "  telecom_data[column].fillna(telecom_data[column].mode()[0], inplace=True)\n"
     ]
    }
   ],
   "source": [
    "# Deciding on a missing data strategy:\n",
    "# For numerical columns, fill with median; for categorical columns, use the mode.\n",
    "for column in telecom_data.columns:\n",
    "    if telecom_data[column].dtype == 'object':\n",
    "        telecom_data[column].fillna(telecom_data[column].mode()[0], inplace=True)\n",
    "    else:\n",
    "        telecom_data[column].fillna(telecom_data[column].median(), inplace=True)"
   ]
  },
  {
   "cell_type": "code",
   "execution_count": 6,
   "id": "7fddcff9-699d-4c47-9fd7-b4bf04dd7394",
   "metadata": {},
   "outputs": [
    {
     "name": "stdout",
     "output_type": "stream",
     "text": [
      "\n",
      "Duplicates before removal: 0\n",
      "Duplicates after removal: 0\n"
     ]
    }
   ],
   "source": [
    "# 4. Remove Duplicate Records\n",
    "print(f\"\\nDuplicates before removal: {telecom_data.duplicated().sum()}\")\n",
    "telecom_data.drop_duplicates(inplace=True)\n",
    "print(f\"Duplicates after removal: {telecom_data.duplicated().sum()}\")"
   ]
  },
  {
   "cell_type": "code",
   "execution_count": 7,
   "id": "7cdfce37-c4a8-4551-9f58-8ea19559a0c1",
   "metadata": {},
   "outputs": [],
   "source": [
    "# 5. Check and Standardize Inconsistent Data\n",
    "# Example: Standardizing 'Yes', 'No' to lowercase\n",
    "for column in telecom_data.select_dtypes(include=['object']).columns:\n",
    "    telecom_data[column] = telecom_data[column].str.lower().str.strip()"
   ]
  },
  {
   "cell_type": "code",
   "execution_count": 8,
   "id": "3b5cb1b1-39b6-4b92-856e-38e58af63565",
   "metadata": {},
   "outputs": [
    {
     "name": "stdout",
     "output_type": "stream",
     "text": [
      "\n",
      "Unique values in 'customerID': ['7590-vhveg' '5575-gnvde' '3668-qpybk' ... '4801-jzazl' '8361-ltmkd'\n",
      " '3186-ajiek']\n",
      "\n",
      "Unique values in 'gender': ['female' 'male']\n",
      "\n",
      "Unique values in 'Partner': ['yes' 'no']\n",
      "\n",
      "Unique values in 'Dependents': ['no' 'yes']\n",
      "\n",
      "Unique values in 'PhoneService': ['no' 'yes']\n",
      "\n",
      "Unique values in 'MultipleLines': ['no phone service' 'no' 'yes']\n",
      "\n",
      "Unique values in 'InternetService': ['dsl' 'fiber optic' 'no']\n",
      "\n",
      "Unique values in 'OnlineSecurity': ['no' 'yes' 'no internet service']\n",
      "\n",
      "Unique values in 'OnlineBackup': ['yes' 'no' 'no internet service']\n",
      "\n",
      "Unique values in 'DeviceProtection': ['no' 'yes' 'no internet service']\n",
      "\n",
      "Unique values in 'TechSupport': ['no' 'yes' 'no internet service']\n",
      "\n",
      "Unique values in 'StreamingTV': ['no' 'yes' 'no internet service']\n",
      "\n",
      "Unique values in 'StreamingMovies': ['no' 'yes' 'no internet service']\n",
      "\n",
      "Unique values in 'Contract': ['month-to-month' 'one year' 'two year']\n",
      "\n",
      "Unique values in 'PaperlessBilling': ['yes' 'no']\n",
      "\n",
      "Unique values in 'PaymentMethod': ['electronic check' 'mailed check' 'bank transfer (automatic)'\n",
      " 'credit card (automatic)']\n",
      "\n",
      "Unique values in 'TotalCharges': ['29.85' '1889.5' '108.15' ... '346.45' '306.6' '6844.5']\n",
      "\n",
      "Unique values in 'Churn': ['no' 'yes']\n"
     ]
    }
   ],
   "source": [
    "# Check unique values for any potential inconsistencies\n",
    "for column in telecom_data.select_dtypes(include=['object']).columns:\n",
    "    print(f\"\\nUnique values in '{column}': {telecom_data[column].unique()}\")\n"
   ]
  },
  {
   "cell_type": "code",
   "execution_count": 9,
   "id": "c48e62b0-cd3e-4680-abe9-b43b2877254c",
   "metadata": {},
   "outputs": [
    {
     "name": "stderr",
     "output_type": "stream",
     "text": [
      "C:\\Users\\bargi\\AppData\\Local\\Temp\\ipykernel_1984\\470636567.py:7: FutureWarning: A value is trying to be set on a copy of a DataFrame or Series through chained assignment using an inplace method.\n",
      "The behavior will change in pandas 3.0. This inplace method will never work because the intermediate object on which we are setting values always behaves as a copy.\n",
      "\n",
      "For example, when doing 'df[col].method(value, inplace=True)', try using 'df.method({col: value}, inplace=True)' or df[col] = df[col].method(value) instead, to perform the operation inplace on the original object.\n",
      "\n",
      "\n",
      "  telecom_data['TotalCharges'].fillna(telecom_data['TotalCharges'].median(), inplace=True)\n"
     ]
    }
   ],
   "source": [
    "# 6. Convert Columns to Correct Data Types\n",
    "# For example, converting any columns like 'TotalCharges' to numeric if needed\n",
    "# Here we assume 'TotalCharges' might need conversion.\n",
    "telecom_data['TotalCharges'] = pd.to_numeric(telecom_data['TotalCharges'], errors='coerce')\n",
    "\n",
    "# Re-check for nulls after conversion and handle them\n",
    "telecom_data['TotalCharges'].fillna(telecom_data['TotalCharges'].median(), inplace=True)\n"
   ]
  },
  {
   "cell_type": "code",
   "execution_count": 10,
   "id": "172fa5e5-c77d-4939-8f46-60b49d588e23",
   "metadata": {},
   "outputs": [
    {
     "data": {
      "image/png": "[encoded data removed]",
      "text/plain": [
       "<Figure size 1000x400 with 1 Axes>"
      ]
     },
     "metadata": {},
     "output_type": "display_data"
    },
    {
     "data": {
      "image/png": "[encoded data removed]",
      "text/plain": [
       "<Figure size 1000x400 with 1 Axes>"
      ]
     },
     "metadata": {},
     "output_type": "display_data"
    },
    {
     "data": {
      "image/png": "[encoded data removed]",
      "text/plain": [
       "<Figure size 1000x400 with 1 Axes>"
      ]
     },
     "metadata": {},
     "output_type": "display_data"
    },
    {
     "data": {
      "image/png": "[encoded data removed]",
      "text/plain": [
       "<Figure size 1000x400 with 1 Axes>"
      ]
     },
     "metadata": {},
     "output_type": "display_data"
    }
   ],
   "source": [
    "# 7. Identify and Handle Outliers\n",
    "# Using box plots for visualizing outliers in numerical columns\n",
    "numeric_cols = telecom_data.select_dtypes(include=[np.number]).columns\n",
    "\n",
    "for column in numeric_cols:\n",
    "    plt.figure(figsize=(10, 4))\n",
    "    sns.boxplot(data=telecom_data, x=column)\n",
    "    plt.title(f\"Outliers in {column}\")\n",
    "    plt.show()"
   ]
  },
  {
   "cell_type": "code",
   "execution_count": 11,
   "id": "64f0dac2-aca0-499e-b0d6-0dc2c5560d3b",
   "metadata": {},
   "outputs": [
    {
     "name": "stdout",
     "output_type": "stream",
     "text": [
      "\n",
      "Final Dataset Info:\n",
      "<class 'pandas.core.frame.DataFrame'>\n",
      "RangeIndex: 7043 entries, 0 to 7042\n",
      "Data columns (total 21 columns):\n",
      " #   Column            Non-Null Count  Dtype  \n",
      "---  ------            --------------  -----  \n",
      " 0   customerID        7043 non-null   object \n",
      " 1   gender            7043 non-null   object \n",
      " 2   SeniorCitizen     7043 non-null   float64\n",
      " 3   Partner           7043 non-null   object \n",
      " 4   Dependents        7043 non-null   object \n",
      " 5   tenure            7043 non-null   float64\n",
      " 6   PhoneService      7043 non-null   object \n",
      " 7   MultipleLines     7043 non-null   object \n",
      " 8   InternetService   7043 non-null   object \n",
      " 9   OnlineSecurity    7043 non-null   object \n",
      " 10  OnlineBackup      7043 non-null   object \n",
      " 11  DeviceProtection  7043 non-null   object \n",
      " 12  TechSupport       7043 non-null   object \n",
      " 13  StreamingTV       7043 non-null   object \n",
      " 14  StreamingMovies   7043 non-null   object \n",
      " 15  Contract          7043 non-null   object \n",
      " 16  PaperlessBilling  7043 non-null   object \n",
      " 17  PaymentMethod     7043 non-null   object \n",
      " 18  MonthlyCharges    7043 non-null   float64\n",
      " 19  TotalCharges      7043 non-null   float64\n",
      " 20  Churn             7043 non-null   object \n",
      "dtypes: float64(4), object(17)\n",
      "memory usage: 1.1+ MB\n",
      "None\n",
      "\n",
      "Final Dataset Summary:\n",
      "       SeniorCitizen       tenure  MonthlyCharges  TotalCharges\n",
      "count         7043.0  7043.000000     7043.000000   7043.000000\n",
      "mean             0.0    32.371149       64.761692   2281.916928\n",
      "std              0.0    24.559481       30.090047   2265.270398\n",
      "min              0.0     0.000000       18.250000     18.800000\n",
      "25%              0.0     9.000000       35.500000    402.225000\n",
      "50%              0.0    29.000000       70.350000   1397.475000\n",
      "75%              0.0    55.000000       89.850000   3786.600000\n",
      "max              0.0    72.000000      118.750000   8684.800000\n"
     ]
    }
   ],
   "source": [
    "# Removing outliers by capping using IQR method\n",
    "for column in numeric_cols:\n",
    "    Q1 = telecom_data[column].quantile(0.25)\n",
    "    Q3 = telecom_data[column].quantile(0.75)\n",
    "    IQR = Q3 - Q1\n",
    "    lower_bound = Q1 - 1.5 * IQR\n",
    "    upper_bound = Q3 + 1.5 * IQR\n",
    "    telecom_data[column] = np.where(telecom_data[column] < lower_bound, lower_bound,\n",
    "                                    np.where(telecom_data[column] > upper_bound, upper_bound, telecom_data[column]))\n",
    "\n",
    "# Confirm final dataset state\n",
    "print(\"\\nFinal Dataset Info:\")\n",
    "print(telecom_data.info())\n",
    "print(\"\\nFinal Dataset Summary:\")\n",
    "print(telecom_data.describe())"
   ]
  },
  {
   "cell_type": "code",
   "execution_count": null,
   "id": "c06fc33e-9282-4df8-9cf0-9ef8484fe10e",
   "metadata": {},
   "outputs": [],
   "source": []
  }
 ],
 "metadata": {
  "kernelspec": {
   "display_name": "Python 3 (ipykernel)",
   "language": "python",
   "name": "python3"
  },
  "language_info": {
   "codemirror_mode": {
    "name": "ipython",
    "version": 3
   },
   "file_extension": ".py",
   "mimetype": "text/x-python",
   "name": "python",
   "nbconvert_exporter": "python",
   "pygments_lexer": "ipython3",
   "version": "3.13.0"
  }
 },
 "nbformat": 4,
 "nbformat_minor": 5
}
