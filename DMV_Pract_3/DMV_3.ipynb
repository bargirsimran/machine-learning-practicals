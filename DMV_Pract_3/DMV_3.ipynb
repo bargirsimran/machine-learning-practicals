{
 "cells": [
  {
   "cell_type": "code",
   "execution_count": null,
   "id": "32c1de27-31fc-49e4-97c4-b03257e403b9",
   "metadata": {},
   "outputs": [],
   "source": [
    "#  Data Wrangling on Real Estate Market "
   ]
  },
  {
   "cell_type": "code",
   "execution_count": 1,
   "id": "75bc9301-7f84-4f36-9dda-f8e3aa05f4f0",
   "metadata": {},
   "outputs": [],
   "source": [
    "# Import necessary libraries\n",
    "import pandas as pd\n",
    "import numpy as np\n",
    "from sklearn.preprocessing import LabelEncoder, OneHotEncoder\n",
    "import seaborn as sns\n",
    "import matplotlib.pyplot as plt"
   ]
  },
  {
   "cell_type": "code",
   "execution_count": 2,
   "id": "0cb41dd0-6b0b-4b7f-b50e-cdd6ed5cc34c",
   "metadata": {},
   "outputs": [
    {
     "name": "stdout",
     "output_type": "stream",
     "text": [
      "Cleaned Columns: Index(['area_type', 'availability', 'location', 'size', 'society',\n",
      "       'total_sqft', 'bath', 'balcony', 'price'],\n",
      "      dtype='object')\n"
     ]
    }
   ],
   "source": [
    "# 1. Import the dataset and clean column names\n",
    "df = pd.read_csv(\"Bengaluru_House_Data.csv\")\n",
    "df.columns = df.columns.str.replace(r\"[^a-zA-Z0-9]\", \"_\").str.lower()  # Replace special characters, spaces, make lowercase\n",
    "print(\"Cleaned Columns:\", df.columns)"
   ]
  },
  {
   "cell_type": "code",
   "execution_count": 8,
   "id": "ff907a76-69a9-43e3-9e30-11dae26fa04b",
   "metadata": {},
   "outputs": [
    {
     "data": {
      "text/html": [
       "<div>\n",
       "<style scoped>\n",
       "    .dataframe tbody tr th:only-of-type {\n",
       "        vertical-align: middle;\n",
       "    }\n",
       "\n",
       "    .dataframe tbody tr th {\n",
       "        vertical-align: top;\n",
       "    }\n",
       "\n",
       "    .dataframe thead th {\n",
       "        text-align: right;\n",
       "    }\n",
       "</style>\n",
       "<table border=\"1\" class=\"dataframe\">\n",
       "  <thead>\n",
       "    <tr style=\"text-align: right;\">\n",
       "      <th></th>\n",
       "      <th>area_type</th>\n",
       "      <th>availability</th>\n",
       "      <th>location</th>\n",
       "      <th>size</th>\n",
       "      <th>society</th>\n",
       "      <th>total_sqft</th>\n",
       "      <th>bath</th>\n",
       "      <th>balcony</th>\n",
       "      <th>price</th>\n",
       "    </tr>\n",
       "  </thead>\n",
       "  <tbody>\n",
       "    <tr>\n",
       "      <th>0</th>\n",
       "      <td>Super built-up  Area</td>\n",
       "      <td>19-Dec</td>\n",
       "      <td>Electronic City Phase II</td>\n",
       "      <td>2 BHK</td>\n",
       "      <td>Coomee</td>\n",
       "      <td>1056</td>\n",
       "      <td>2.0</td>\n",
       "      <td>1.0</td>\n",
       "      <td>39.07</td>\n",
       "    </tr>\n",
       "    <tr>\n",
       "      <th>1</th>\n",
       "      <td>Plot  Area</td>\n",
       "      <td>Ready To Move</td>\n",
       "      <td>Chikka Tirupathi</td>\n",
       "      <td>4 Bedroom</td>\n",
       "      <td>Theanmp</td>\n",
       "      <td>2600</td>\n",
       "      <td>5.0</td>\n",
       "      <td>3.0</td>\n",
       "      <td>120.00</td>\n",
       "    </tr>\n",
       "    <tr>\n",
       "      <th>2</th>\n",
       "      <td>Built-up  Area</td>\n",
       "      <td>Ready To Move</td>\n",
       "      <td>Uttarahalli</td>\n",
       "      <td>3 BHK</td>\n",
       "      <td>GrrvaGr</td>\n",
       "      <td>1440</td>\n",
       "      <td>2.0</td>\n",
       "      <td>3.0</td>\n",
       "      <td>62.00</td>\n",
       "    </tr>\n",
       "    <tr>\n",
       "      <th>3</th>\n",
       "      <td>Super built-up  Area</td>\n",
       "      <td>Ready To Move</td>\n",
       "      <td>Lingadheeranahalli</td>\n",
       "      <td>3 BHK</td>\n",
       "      <td>Soiewre</td>\n",
       "      <td>1521</td>\n",
       "      <td>3.0</td>\n",
       "      <td>1.0</td>\n",
       "      <td>95.00</td>\n",
       "    </tr>\n",
       "    <tr>\n",
       "      <th>4</th>\n",
       "      <td>Super built-up  Area</td>\n",
       "      <td>Ready To Move</td>\n",
       "      <td>Kothanur</td>\n",
       "      <td>2 BHK</td>\n",
       "      <td>GrrvaGr</td>\n",
       "      <td>1200</td>\n",
       "      <td>2.0</td>\n",
       "      <td>1.0</td>\n",
       "      <td>51.00</td>\n",
       "    </tr>\n",
       "  </tbody>\n",
       "</table>\n",
       "</div>"
      ],
      "text/plain": [
       "              area_type   availability                  location       size  \\\n",
       "0  Super built-up  Area         19-Dec  Electronic City Phase II      2 BHK   \n",
       "1            Plot  Area  Ready To Move          Chikka Tirupathi  4 Bedroom   \n",
       "2        Built-up  Area  Ready To Move               Uttarahalli      3 BHK   \n",
       "3  Super built-up  Area  Ready To Move        Lingadheeranahalli      3 BHK   \n",
       "4  Super built-up  Area  Ready To Move                  Kothanur      2 BHK   \n",
       "\n",
       "   society total_sqft  bath  balcony   price  \n",
       "0  Coomee        1056   2.0      1.0   39.07  \n",
       "1  Theanmp       2600   5.0      3.0  120.00  \n",
       "2  GrrvaGr       1440   2.0      3.0   62.00  \n",
       "3  Soiewre       1521   3.0      1.0   95.00  \n",
       "4  GrrvaGr       1200   2.0      1.0   51.00  "
      ]
     },
     "execution_count": 8,
     "metadata": {},
     "output_type": "execute_result"
    }
   ],
   "source": [
    "df.head()"
   ]
  },
  {
   "cell_type": "code",
   "execution_count": 3,
   "id": "0c8cbb88-9028-4e92-9357-a76665bf7aed",
   "metadata": {},
   "outputs": [
    {
     "name": "stdout",
     "output_type": "stream",
     "text": [
      "area_type          0\n",
      "availability       0\n",
      "location           1\n",
      "size              16\n",
      "society         5502\n",
      "total_sqft         0\n",
      "bath              73\n",
      "balcony          609\n",
      "price              0\n",
      "dtype: int64\n"
     ]
    }
   ],
   "source": [
    "# 2. Handle missing values\n",
    "# Check missing values\n",
    "print(df.isnull().sum())"
   ]
  },
  {
   "cell_type": "code",
   "execution_count": 4,
   "id": "3a5d140a-9944-4f84-b850-1837316f18ec",
   "metadata": {},
   "outputs": [],
   "source": [
    "# Decide on imputation or removal strategy\n",
    "# Example: Impute missing values in numerical columns with the median\n",
    "numerical_cols = df.select_dtypes(include=['float64', 'int64']).columns\n",
    "df[numerical_cols] = df[numerical_cols].apply(lambda x: x.fillna(x.median()))\n"
   ]
  },
  {
   "cell_type": "code",
   "execution_count": 5,
   "id": "14228479-89d4-402d-ac89-c8825f40fa2e",
   "metadata": {},
   "outputs": [],
   "source": [
    "\n",
    "# For categorical columns, fill with the most frequent value\n",
    "categorical_cols = df.select_dtypes(include=['object']).columns\n",
    "df[categorical_cols] = df[categorical_cols].apply(lambda x: x.fillna(x.mode()[0]))"
   ]
  },
  {
   "cell_type": "code",
   "execution_count": 6,
   "id": "7259f1a5-fe63-427e-b606-0617188b84b4",
   "metadata": {},
   "outputs": [],
   "source": [
    "# 3. Perform data merging (assuming availability of an additional dataset for demo purposes)\n",
    "# Load additional dataset, e.g., Neighborhood info (if available)\n",
    "# neighborhood_df = pd.read_csv(\"Neighborhood_Info.csv\")\n",
    "# df = pd.merge(df, neighborhood_df, on=\"neighborhood_id\", how=\"left\")\n"
   ]
  },
  {
   "cell_type": "code",
   "execution_count": 10,
   "id": "70061323-6672-4f97-b35c-637f21df1ad6",
   "metadata": {},
   "outputs": [],
   "source": [
    "# Example 1: Filter data where `area_type` is 'Super built-up Area'\n",
    "super_built_up = df[df['area_type'] == 'Super built-up Area']\n"
   ]
  },
  {
   "cell_type": "code",
   "execution_count": 11,
   "id": "834e06cb-16cc-48ff-ba13-1d8eb38595d3",
   "metadata": {},
   "outputs": [
    {
     "name": "stdout",
     "output_type": "stream",
     "text": [
      "Empty DataFrame\n",
      "Columns: [area_type, availability, location, size, society, total_sqft, bath, balcony, price]\n",
      "Index: []\n"
     ]
    }
   ],
   "source": [
    "# Display filtered data\n",
    "print(super_built_up)"
   ]
  },
  {
   "cell_type": "code",
   "execution_count": 13,
   "id": "0100f48f-4995-4781-bc31-2ddacb910a9b",
   "metadata": {},
   "outputs": [
    {
     "name": "stdout",
     "output_type": "stream",
     "text": [
      "                  area_type   availability            location       size  \\\n",
      "2            Built-up  Area  Ready To Move         Uttarahalli      3 BHK   \n",
      "3      Super built-up  Area  Ready To Move  Lingadheeranahalli      3 BHK   \n",
      "8      Super built-up  Area  Ready To Move        Marathahalli      3 BHK   \n",
      "10     Super built-up  Area         18-Feb          Whitefield      3 BHK   \n",
      "14               Plot  Area  Ready To Move            Sarjapur  3 Bedroom   \n",
      "...                     ...            ...                 ...        ...   \n",
      "13307        Built-up  Area  Ready To Move        Billekahalli      3 BHK   \n",
      "13308        Built-up  Area  Ready To Move   Bannerghatta Road      3 BHK   \n",
      "13309  Super built-up  Area  Ready To Move        Yeshwanthpur      3 BHK   \n",
      "13313  Super built-up  Area  Ready To Move         Uttarahalli      3 BHK   \n",
      "13314  Super built-up  Area  Ready To Move   Green Glen Layout      3 BHK   \n",
      "\n",
      "       society total_sqft  bath  balcony   price  \n",
      "2      GrrvaGr       1440   2.0      3.0   62.00  \n",
      "3      Soiewre       1521   3.0      1.0   95.00  \n",
      "8      GrrvaGr       1310   3.0      1.0   63.25  \n",
      "10     GrrvaGr       1800   2.0      2.0   70.00  \n",
      "14     Skityer       2250   3.0      2.0  148.00  \n",
      "...        ...        ...   ...      ...     ...  \n",
      "13307  GrrvaGr       1805   3.0      3.0  134.00  \n",
      "13308  Baanise       1527   3.0      1.0  142.00  \n",
      "13309  IBityin       1675   3.0      2.0   92.13  \n",
      "13313  Aklia R       1345   2.0      1.0   57.00  \n",
      "13314  SoosePr       1715   3.0      3.0  112.00  \n",
      "\n",
      "[4859 rows x 9 columns]\n"
     ]
    }
   ],
   "source": [
    "# Example 2: Filter properties with a minimum of 3 bedrooms\n",
    "three_bedroom_properties = df[df['size'].str.contains('3 BHK|3 Bedroom')]\n",
    "print(three_bedroom_properties)"
   ]
  },
  {
   "cell_type": "code",
   "execution_count": 15,
   "id": "8e3b3c14-80bf-4d99-aff5-876a009ae4b2",
   "metadata": {},
   "outputs": [
    {
     "name": "stdout",
     "output_type": "stream",
     "text": [
      "                  area_type   availability                  location  \\\n",
      "0      Super built-up  Area         19-Dec  Electronic City Phase II   \n",
      "5      Super built-up  Area  Ready To Move                Whitefield   \n",
      "12     Super built-up  Area  Ready To Move        7th Phase JP Nagar   \n",
      "13           Built-up  Area  Ready To Move                 Gottigere   \n",
      "16     Super built-up  Area  Ready To Move             Bisuvanahalli   \n",
      "...                     ...            ...                       ...   \n",
      "13291            Plot  Area         18-Jan            Weavers Colony   \n",
      "13302  Super built-up  Area  Ready To Move      Annaiah Reddy Layout   \n",
      "13304  Super built-up  Area  Ready To Move     Raja Rajeshwari Nagar   \n",
      "13312  Super built-up  Area  Ready To Move                 Bellandur   \n",
      "13319  Super built-up  Area  Ready To Move              Doddathoguru   \n",
      "\n",
      "            size  society total_sqft  bath  balcony  price  \n",
      "0          2 BHK  Coomee        1056   2.0      1.0  39.07  \n",
      "5          2 BHK  DuenaTa       1170   2.0      1.0  38.00  \n",
      "12         2 BHK  Shncyes       1000   2.0      1.0  38.00  \n",
      "13         2 BHK  GrrvaGr       1100   2.0      2.0  40.00  \n",
      "16         3 BHK  Prityel       1180   3.0      2.0  48.00  \n",
      "...          ...      ...        ...   ...      ...    ...  \n",
      "13291  1 Bedroom  GrrvaGr        812   1.0      0.0  26.00  \n",
      "13302      2 BHK  GrrvaGr       1075   2.0      2.0  48.00  \n",
      "13304      2 BHK  GrrvaGr       1187   2.0      2.0  40.14  \n",
      "13312      2 BHK  GrrvaGr       1262   2.0      2.0  47.00  \n",
      "13319      1 BHK  GrrvaGr        550   1.0      1.0  17.00  \n",
      "\n",
      "[3279 rows x 9 columns]\n"
     ]
    }
   ],
   "source": [
    "# Example 4: Properties with a price below 50 Lakhs\n",
    "budget_properties = df[df['price'] < 50]\n",
    "print(budget_properties)"
   ]
  },
  {
   "cell_type": "code",
   "execution_count": 16,
   "id": "ee410399-9124-48f9-987c-2fb2d170e0a8",
   "metadata": {},
   "outputs": [],
   "source": [
    "# 5. Handle categorical variables by encoding them\n",
    "# Label encode binary categorical columns\n",
    "binary_cols = [col for col in categorical_cols if df[col].nunique() == 2]\n",
    "for col in binary_cols:\n",
    "    le = LabelEncoder()\n",
    "    df[col] = le.fit_transform(df[col])\n"
   ]
  },
  {
   "cell_type": "code",
   "execution_count": 17,
   "id": "c2a87e05-c8a9-4343-8c10-59249cd11468",
   "metadata": {},
   "outputs": [],
   "source": [
    "# One-hot encode multi-class categorical variables\n",
    "df = pd.get_dummies(df, columns=[col for col in categorical_cols if col not in binary_cols])\n"
   ]
  },
  {
   "cell_type": "code",
   "execution_count": 23,
   "id": "3dcff6c4-f27a-4cca-b43d-c204f35e9b96",
   "metadata": {},
   "outputs": [
    {
     "name": "stdout",
     "output_type": "stream",
     "text": [
      "Number of outliers detected: 1276\n"
     ]
    }
   ],
   "source": [
    "# 7. Identify and handle outliers\n",
    "# Use IQR to detect outliers in the 'sale_price' column\n",
    "Q1 = df['price'].quantile(0.25)\n",
    "Q3 = df['price'].quantile(0.75)\n",
    "IQR = Q3 - Q1\n",
    "outliers = df[(df['price'] < (Q1 - 1.5 * IQR)) | (df['price'] > (Q3 + 1.5 * IQR))]\n",
    "print(f\"Number of outliers detected: {outliers.shape[0]}\")"
   ]
  },
  {
   "cell_type": "code",
   "execution_count": 25,
   "id": "1fd6dc75-e6e4-48de-9f6c-a462bc29e4e0",
   "metadata": {},
   "outputs": [],
   "source": [
    "# Optionally, remove outliers\n",
    "df = df[~((df['price'] < (Q1 - 1.5 * IQR)) | (df['price'] > (Q3 + 1.5 * IQR)))]\n"
   ]
  },
  {
   "cell_type": "code",
   "execution_count": null,
   "id": "00745e82-e267-468b-9084-a3e24657e078",
   "metadata": {},
   "outputs": [],
   "source": []
  }
 ],
 "metadata": {
  "kernelspec": {
   "display_name": "Python 3 (ipykernel)",
   "language": "python",
   "name": "python3"
  },
  "language_info": {
   "codemirror_mode": {
    "name": "ipython",
    "version": 3
   },
   "file_extension": ".py",
   "mimetype": "text/x-python",
   "name": "python",
   "nbconvert_exporter": "python",
   "pygments_lexer": "ipython3",
   "version": "3.13.0"
  }
 },
 "nbformat": 4,
 "nbformat_minor": 5
}
